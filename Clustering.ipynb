{
 "cells": [
  {
   "cell_type": "markdown",
   "metadata": {},
   "source": [
    "# Clustering"
   ]
  },
  {
   "cell_type": "markdown",
   "metadata": {},
   "source": [
    "This notebook will be exploring the unsupervised learning method of clustering. "
   ]
  },
  {
   "cell_type": "markdown",
   "metadata": {},
   "source": [
    "## Unsupervised Learning"
   ]
  },
  {
   "cell_type": "markdown",
   "metadata": {},
   "source": [
    "Unsupervised learning is used to draw inferences from data with unlabeled output values."
   ]
  },
  {
   "cell_type": "markdown",
   "metadata": {},
   "source": [
    "## K-means"
   ]
  },
  {
   "cell_type": "markdown",
   "metadata": {},
   "source": [
    "K-means is a popular clustering algorithm. It is simple and powerful, and so, is perfect to demonstrate clustering in this notebook."
   ]
  },
  {
   "cell_type": "markdown",
   "metadata": {},
   "source": [
    "## MNIST Data set"
   ]
  },
  {
   "cell_type": "markdown",
   "metadata": {},
   "source": [
    "Each image is 28 pixels in height and 28 pixels in width, for a total of 784 pixels in total. Each pixel has a single pixel-value associated with it, indicating the lightness or darkness of that pixel, with higher numbers meaning darker. This pixel-value is an integer between 0 and 255, inclusive."
   ]
  },
  {
   "cell_type": "markdown",
   "metadata": {},
   "source": [
    "We will drop the output variable, \"label\", since this is what we hope our K-means algorithm will figure out for itself."
   ]
  },
  {
   "cell_type": "markdown",
   "metadata": {},
   "source": [
    "This dataset is perfect to demonstrate K-means clustering, since we know what the output variable represents, but the K-means algorithm does not. So, this is a great way to test the algorithm's performance."
   ]
  },
  {
   "cell_type": "markdown",
   "metadata": {},
   "source": [
    "## Set-up"
   ]
  },
  {
   "cell_type": "code",
   "execution_count": 1,
   "metadata": {},
   "outputs": [],
   "source": [
    "import pandas as pd\n",
    "from sklearn.cluster import KMeans\n",
    "import matplotlib.pyplot as plt\n",
    "from sklearn.metrics import silhouette_score"
   ]
  },
  {
   "cell_type": "code",
   "execution_count": 2,
   "metadata": {},
   "outputs": [],
   "source": [
    "df = pd.read_csv(r\"C:\\Users\\kaiaj_000\\Documents\\mnist_train.csv\")"
   ]
  },
  {
   "cell_type": "code",
   "execution_count": 3,
   "metadata": {},
   "outputs": [
    {
     "data": {
      "text/plain": [
       "(42000, 785)"
      ]
     },
     "execution_count": 3,
     "metadata": {},
     "output_type": "execute_result"
    }
   ],
   "source": [
    "df.shape"
   ]
  },
  {
   "cell_type": "code",
   "execution_count": 4,
   "metadata": {},
   "outputs": [],
   "source": [
    "df = df.drop(\"label\", 1)"
   ]
  },
  {
   "cell_type": "code",
   "execution_count": 5,
   "metadata": {},
   "outputs": [
    {
     "data": {
      "text/plain": [
       "(42000, 784)"
      ]
     },
     "execution_count": 5,
     "metadata": {},
     "output_type": "execute_result"
    }
   ],
   "source": [
    "df.shape"
   ]
  },
  {
   "cell_type": "markdown",
   "metadata": {},
   "source": [
    "## K-means"
   ]
  },
  {
   "cell_type": "markdown",
   "metadata": {},
   "source": [
    "Since we know that there are 10 digits, we choose 10 clusters. Hopefully, each of these clusters will accurately represent one of the digits."
   ]
  },
  {
   "cell_type": "code",
   "execution_count": 6,
   "metadata": {},
   "outputs": [
    {
     "data": {
      "text/plain": [
       "(10, 784)"
      ]
     },
     "execution_count": 6,
     "metadata": {},
     "output_type": "execute_result"
    }
   ],
   "source": [
    "kmeans = KMeans(10)\n",
    "clusters = kmeans.fit(df)\n",
    "kmeans.cluster_centers_.shape"
   ]
  },
  {
   "cell_type": "markdown",
   "metadata": {},
   "source": [
    "The output shows that we have 10 clusters, each with 784 dimensions."
   ]
  },
  {
   "cell_type": "code",
   "execution_count": 7,
   "metadata": {},
   "outputs": [
    {
     "data": {
      "image/png": "[encoded data removed]",
      "text/plain": [
       "<Figure size 576x216 with 10 Axes>"
      ]
     },
     "metadata": {},
     "output_type": "display_data"
    }
   ],
   "source": [
    "fig, ax = plt.subplots(2, 5, figsize=(8, 3))\n",
    "centers = kmeans.cluster_centers_.reshape(10, 28, 28)\n",
    "for axi, center in zip(ax.flat, centers):\n",
    "    axi.set(xticks=[], yticks=[])\n",
    "    axi.imshow(center, interpolation='nearest', cmap=plt.cm.binary)"
   ]
  },
  {
   "cell_type": "markdown",
   "metadata": {},
   "source": [
    "We can see that the clusters represent most digits, other than 4, 5, and 7. This is probably due to the fact they look similar to other digits."
   ]
  },
  {
   "cell_type": "markdown",
   "metadata": {},
   "source": [
    "## Silhouette Analysis"
   ]
  },
  {
   "cell_type": "markdown",
   "metadata": {},
   "source": [
    "It's all well and good knowing how many clusters to choose, as in the case we've just seen, but generally we won't know how many clusters to choose. This is because the sort of problem we use clustering for is where we don't know the relationship between the data, and so we don't know how many groups, or clusters, the data represents."
   ]
  },
  {
   "cell_type": "markdown",
   "metadata": {},
   "source": [
    "To fix our previous problem, we have something called silhouettes analysis. This is used to study the seperation distance between clusters, so that we can determine whther we have too few, or too many, clusters. The silhouette score given to each cluster is on the scale [-1, 1]. The closer the score to -1, the more likely that the samples have been assigned to the wrong cluster. The closer the score to 1, the more likely that the samples are in the correct cluster. The average score for each cluster is taken, and is then assgined to the score for that particular number of clusters."
   ]
  },
  {
   "cell_type": "markdown",
   "metadata": {},
   "source": [
    "Let's test the score of a range of cluster values from 1 to 15."
   ]
  },
  {
   "cell_type": "code",
   "execution_count": 8,
   "metadata": {},
   "outputs": [
    {
     "name": "stdout",
     "output_type": "stream",
     "text": [
      "For n_clusters = 2 The average silhouette_score is : 0.08713042687283606\n",
      "For n_clusters = 3 The average silhouette_score is : 0.054116291461575025\n",
      "For n_clusters = 4 The average silhouette_score is : 0.060200321736401344\n",
      "For n_clusters = 5 The average silhouette_score is : 0.06660224957939213\n",
      "For n_clusters = 6 The average silhouette_score is : 0.06506372751000378\n",
      "For n_clusters = 7 The average silhouette_score is : 0.06632574595069625\n",
      "For n_clusters = 8 The average silhouette_score is : 0.07329199733078619\n",
      "For n_clusters = 9 The average silhouette_score is : 0.056795908581578576\n",
      "For n_clusters = 10 The average silhouette_score is : 0.058604896102157064\n",
      "For n_clusters = 11 The average silhouette_score is : 0.05751658893325197\n",
      "For n_clusters = 12 The average silhouette_score is : 0.05779234991673075\n",
      "For n_clusters = 13 The average silhouette_score is : 0.059823875373156817\n",
      "For n_clusters = 14 The average silhouette_score is : 0.06111999006935979\n"
     ]
    }
   ],
   "source": [
    "for clusters in range(2,15):\n",
    "    \n",
    "    clusterer = KMeans(clusters)\n",
    "    cluster_labels = clusterer.fit_predict(df)\n",
    "    \n",
    "    silhouette_avg = silhouette_score(df, cluster_labels)\n",
    "    print(\"For n_clusters =\", clusters,\n",
    "          \"The average silhouette_score is :\", silhouette_avg)"
   ]
  },
  {
   "cell_type": "markdown",
   "metadata": {},
   "source": [
    "As can be seen, the only real outliers are when the algorithm has 2 and 8 clusters. This makes sense for 2 clusters, since the fewer number of clusters there are, the easier it should be to differentiate the samples, since there aren't many options to choose from. It is strange, however, that this is only the case for 2 clusters, and not, say, 3 or 4."
   ]
  },
  {
   "cell_type": "markdown",
   "metadata": {},
   "source": [
    "As for the 8 clusters, this also makes sense given our previous example, where we visualised the 10 clusters generated by the algorithm, since it didn't generate accurate representations of the digits 4, 5, or 7. However, it very nearly recognises the digit 4, hence bringing the total number of clusters up to 8."
   ]
  }
 ],
 "metadata": {
  "kernelspec": {
   "display_name": "Python 3",
   "language": "python",
   "name": "python3"
  },
  "language_info": {
   "codemirror_mode": {
    "name": "ipython",
    "version": 3
   },
   "file_extension": ".py",
   "mimetype": "text/x-python",
   "name": "python",
   "nbconvert_exporter": "python",
   "pygments_lexer": "ipython3",
   "version": "3.7.3"
  }
 },
 "nbformat": 4,
 "nbformat_minor": 2
}
